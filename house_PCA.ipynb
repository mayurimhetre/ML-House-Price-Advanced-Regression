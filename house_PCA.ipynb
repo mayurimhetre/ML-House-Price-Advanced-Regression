{
 "cells": [
  {
   "cell_type": "code",
   "execution_count": 1,
   "id": "1833cf76",
   "metadata": {},
   "outputs": [],
   "source": [
    "#####kaggle https://www.kaggle.com/c/house-prices-advanced-regression-techniques/overview/evaluation"
   ]
  },
  {
   "cell_type": "code",
   "execution_count": 2,
   "id": "eb042391",
   "metadata": {},
   "outputs": [],
   "source": [
    "import pandas as pd\n",
    "import numpy as np\n",
    "import matplotlib.pyplot as plt\n",
    "import seaborn as sns\n",
    "\n",
    "############ loading train and test datasets ##############\n",
    "df  = pd.read_csv('sample_submission.csv')\n",
    "train_data = pd.read_csv('train.csv')\n",
    "test_data = pd.read_csv('test.csv')\n",
    "\n",
    "##### Filling NAN values ##################\n",
    "train_data['PoolQC'] = train_data['PoolQC'].fillna('NA')\n",
    "train_data['Alley'] = train_data['Alley'].fillna('NA')\n",
    "train_data['MasVnrType'] = train_data['MasVnrType'].fillna('None')\n",
    "train_data['BsmtExposure'] = train_data['BsmtExposure'].fillna('NA')\n",
    "train_data['BsmtFinType1'] = train_data['BsmtFinType1'].fillna('NA')\n",
    "train_data['BsmtFinType2'] = train_data['BsmtFinType2'].fillna('NA')\n",
    "train_data['FireplaceQu'] = train_data['FireplaceQu'].fillna('NA')\n",
    "train_data['GarageType'] = train_data['GarageType'].fillna('NA')\n",
    "train_data['GarageFinish'] = train_data['GarageFinish'].fillna('NA')\n",
    "train_data['GarageQual'] = train_data['GarageQual'].fillna('NA')\n",
    "train_data['GarageCond'] = train_data['GarageCond'].fillna('NA')\n",
    "train_data['Fence'] = train_data['Fence'].fillna('NA')\n",
    "train_data['MiscFeature'] = train_data['MiscFeature'].fillna('NA')\n",
    "train_data['LotFrontage'].fillna(train_data['LotFrontage'].mode()[0],inplace = True)\n",
    "train_data['MasVnrArea'].fillna(train_data['MasVnrArea'].mode()[0],inplace = True)\n",
    "train_data['BsmtQual'].fillna(train_data['BsmtQual'].mode()[0],inplace = True)\n",
    "train_data['BsmtCond'].fillna(train_data['BsmtCond'].mode()[0],inplace = True)\n",
    "train_data['Electrical'].fillna(train_data['Electrical'].mode()[0],inplace = True)\n",
    "train_data['GarageYrBlt'].fillna(train_data['GarageYrBlt'].mode()[0],inplace = True)\n",
    "\n",
    "train_data['YrSold_build'] = 2021 - train_data['YrSold']\n",
    "train_data.drop(['YrSold'],axis=1,inplace = True)\n",
    "train_data['YearBuilt_build'] = 2021 - train_data['YearBuilt']\n",
    "train_data.drop(['YearBuilt'],axis=1,inplace = True)\n",
    "train_data['YearRemodAdd_build'] = 2021 - train_data['YearRemodAdd']\n",
    "train_data.drop(['YearRemodAdd'],axis=1,inplace = True)\n",
    "\n",
    "train_data  = pd.get_dummies(train_data,drop_first=True)\n",
    "\n",
    "########## checking for coreelation #############\n",
    "def correlation(dataset, threshold):\n",
    "    col_corr = set()  # Set of all the names of correlated columns\n",
    "    corr_matrix = dataset.corr()\n",
    "    for i in range(len(corr_matrix.columns)):\n",
    "        for j in range(i):\n",
    "            if abs(corr_matrix.iloc[i, j]) > threshold: # we are interested in absolute coeff value\n",
    "                colname = corr_matrix.columns[i]  # getting the name of column\n",
    "                col_corr.add(colname)\n",
    "    return col_corr\n",
    "\n",
    "correlation(train_data,0.85)\n",
    "\n",
    "############ Dropping highly corelated columns ########################\n",
    "train_data = train_data.drop(['BsmtFinType1_NA',\n",
    " 'BsmtFinType2_NA',\n",
    " 'ExterCond_TA',\n",
    " 'ExterQual_TA',\n",
    " 'Exterior2nd_CBlock',\n",
    " 'Exterior2nd_CmentBd',\n",
    " 'Exterior2nd_HdBoard',\n",
    " 'Exterior2nd_MetalSd',\n",
    " 'Exterior2nd_VinylSd',\n",
    " 'Exterior2nd_Wd Sdng',\n",
    " 'FireplaceQu_NA',\n",
    " 'GarageArea',\n",
    " 'GarageCond_NA',\n",
    " 'GarageFinish_NA',\n",
    " 'GarageQual_NA',\n",
    " 'MiscFeature_Shed',\n",
    " 'Neighborhood_Somerst',\n",
    " 'PoolQC_NA',\n",
    " 'RoofStyle_Hip',\n",
    " 'SaleCondition_Partial'],axis=1)"
   ]
  },
  {
   "cell_type": "code",
   "execution_count": 3,
   "id": "47c536dd",
   "metadata": {},
   "outputs": [
    {
     "data": {
      "text/plain": [
       "(1460, 239)"
      ]
     },
     "execution_count": 3,
     "metadata": {},
     "output_type": "execute_result"
    }
   ],
   "source": [
    "train_data.shape"
   ]
  },
  {
   "cell_type": "code",
   "execution_count": 4,
   "id": "eb43d941",
   "metadata": {},
   "outputs": [],
   "source": [
    "X = train_data.drop(['Id','SalePrice'],axis=1)\n",
    "y = train_data['SalePrice']"
   ]
  },
  {
   "cell_type": "code",
   "execution_count": 19,
   "id": "74604e2c",
   "metadata": {},
   "outputs": [],
   "source": [
    "################ PCA on entire dataset ##################\n",
    "from sklearn.decomposition import PCA\n",
    "pca1 = PCA(n_components=2)\n",
    "pca1.fit(X)\n",
    "x_pca_transformed = pca1.transform(X)"
   ]
  },
  {
   "cell_type": "code",
   "execution_count": 20,
   "id": "aa306db3",
   "metadata": {},
   "outputs": [],
   "source": [
    "####### Model building #############\n",
    "X = x_pca_transformed\n",
    "y = train_data['SalePrice']\n",
    "from sklearn.model_selection import train_test_split\n",
    "X_train, X_test, y_train, y_test = train_test_split(X, y, test_size=0.3, random_state=0)"
   ]
  },
  {
   "cell_type": "code",
   "execution_count": 21,
   "id": "43a0e7a0",
   "metadata": {},
   "outputs": [
    {
     "name": "stdout",
     "output_type": "stream",
     "text": [
      "test data Score: 0.6482305155381114\n",
      "train data Score: 0.9450114040052099\n",
      "r2 sqyuare value 0.6482305155381114\n",
      "MAE: 32607.465243531205\n",
      "MSE: 2388160019.2037544\n",
      "RMSE: 48868.80415156232\n"
     ]
    }
   ],
   "source": [
    "############# Model Training ##############\n",
    "from sklearn.ensemble import RandomForestRegressor\n",
    "rf = RandomForestRegressor()\n",
    "rf.fit(X_train,y_train)\n",
    "rf_y_pred = rf.predict(X_test)\n",
    "\n",
    "print(\"test data Score:\", rf.score(X_test,y_test))\n",
    "print(\"train data Score:\" , rf.score(X_train,y_train))\n",
    "from sklearn.metrics import r2_score\n",
    "re = r2_score(y_test, rf_y_pred)\n",
    "print(\"r2 sqyuare value\",re)\n",
    "\n",
    "from sklearn import metrics\n",
    "print('MAE:', metrics.mean_absolute_error(y_test, rf_y_pred))\n",
    "print('MSE:', metrics.mean_squared_error(y_test, rf_y_pred))\n",
    "print('RMSE:', np.sqrt(metrics.mean_squared_error(y_test, rf_y_pred)))"
   ]
  },
  {
   "cell_type": "code",
   "execution_count": 16,
   "id": "6942f839",
   "metadata": {},
   "outputs": [
    {
     "data": {
      "text/plain": [
       "Text(0, 0.5, 'Second Principal Component')"
      ]
     },
     "execution_count": 16,
     "metadata": {},
     "output_type": "execute_result"
    },
    {
     "data": {
      "image/png": "[encoded data removed]",
      "text/plain": [
       "<Figure size 864x360 with 1 Axes>"
      ]
     },
     "metadata": {
      "needs_background": "light"
     },
     "output_type": "display_data"
    }
   ],
   "source": [
    "plt.figure(figsize=(12,5))\n",
    "plt.scatter(x_pca_transformed[:,0],x_pca_transformed[:,1],c=y,cmap='plasma')\n",
    "plt.xlabel('First principal component')\n",
    "plt.ylabel('Second Principal Component')"
   ]
  },
  {
   "cell_type": "code",
   "execution_count": 18,
   "id": "86d4348b",
   "metadata": {},
   "outputs": [],
   "source": [
    "##NOTE: test data accuracy is very less --- 0.6482305155381114 using PCA and RandomForestRegressor"
   ]
  },
  {
   "cell_type": "code",
   "execution_count": 27,
   "id": "cad5cfea",
   "metadata": {},
   "outputs": [
    {
     "name": "stdout",
     "output_type": "stream",
     "text": [
      "test data Score: 0.7001196766361563\n",
      "train data Score: 0.8279369075900627\n",
      "r2 sqyuare value 0.7001196766361563\n",
      "MAE: 30371.261236791102\n",
      "MSE: 2035884948.630374\n",
      "RMSE: 45120.78178212755\n"
     ]
    }
   ],
   "source": [
    "################ PCA on entire dataset ##################\n",
    "from sklearn.decomposition import PCA\n",
    "pca1 = PCA(n_components=2)\n",
    "pca1.fit(X)\n",
    "x_pca_transformed = pca1.transform(X)\n",
    "\n",
    "####### Model building #############\n",
    "X = x_pca_transformed\n",
    "y = train_data['SalePrice']\n",
    "from sklearn.model_selection import train_test_split\n",
    "X_train, X_test, y_train, y_test = train_test_split(X, y, test_size=0.3, random_state=0)\n",
    "\n",
    "# Import models and utility functions\n",
    "from sklearn.ensemble import GradientBoostingRegressor\n",
    "gbr = GradientBoostingRegressor()\n",
    "gbr.fit(X_train,y_train)\n",
    "gbr_y_pred = gbr.predict(X_test)\n",
    "\n",
    "print(\"test data Score:\", gbr.score(X_test,y_test))\n",
    "print(\"train data Score:\" , gbr.score(X_train,y_train))\n",
    "\n",
    "from sklearn.metrics import r2_score\n",
    "re = r2_score(y_test, gbr_y_pred)\n",
    "print(\"r2 sqyuare value\",re)\n",
    "\n",
    "from sklearn import metrics\n",
    "print('MAE:', metrics.mean_absolute_error(y_test, gbr_y_pred))\n",
    "print('MSE:', metrics.mean_squared_error(y_test, gbr_y_pred))\n",
    "print('RMSE:', np.sqrt(metrics.mean_squared_error(y_test, gbr_y_pred)))"
   ]
  },
  {
   "cell_type": "code",
   "execution_count": 24,
   "id": "3e5624c3",
   "metadata": {},
   "outputs": [],
   "source": [
    "##NOTE: test data accuracy is very less ---0.7001196766361563 using PCA and GradientBoostingRegressor"
   ]
  },
  {
   "cell_type": "code",
   "execution_count": 26,
   "id": "83479156",
   "metadata": {},
   "outputs": [
    {
     "name": "stderr",
     "output_type": "stream",
     "text": [
      "c:\\users\\manojkumar m mhetre\\appdata\\local\\programs\\python\\python39\\lib\\site-packages\\seaborn\\distributions.py:2557: FutureWarning: `distplot` is a deprecated function and will be removed in a future version. Please adapt your code to use either `displot` (a figure-level function with similar flexibility) or `histplot` (an axes-level function for histograms).\n",
      "  warnings.warn(msg, FutureWarning)\n"
     ]
    },
    {
     "data": {
      "text/plain": [
       "<AxesSubplot:ylabel='Density'>"
      ]
     },
     "execution_count": 26,
     "metadata": {},
     "output_type": "execute_result"
    },
    {
     "data": {
      "image/png": "[encoded data removed]",
      "text/plain": [
       "<Figure size 432x288 with 1 Axes>"
      ]
     },
     "metadata": {
      "needs_background": "light"
     },
     "output_type": "display_data"
    }
   ],
   "source": [
    "sns.distplot(gbr_y_pred)"
   ]
  },
  {
   "cell_type": "code",
   "execution_count": null,
   "id": "0771af8d",
   "metadata": {},
   "outputs": [],
   "source": []
  }
 ],
 "metadata": {
  "kernelspec": {
   "display_name": "Python 3",
   "language": "python",
   "name": "python3"
  },
  "language_info": {
   "codemirror_mode": {
    "name": "ipython",
    "version": 3
   },
   "file_extension": ".py",
   "mimetype": "text/x-python",
   "name": "python",
   "nbconvert_exporter": "python",
   "pygments_lexer": "ipython3",
   "version": "3.9.5"
  }
 },
 "nbformat": 4,
 "nbformat_minor": 5
}
