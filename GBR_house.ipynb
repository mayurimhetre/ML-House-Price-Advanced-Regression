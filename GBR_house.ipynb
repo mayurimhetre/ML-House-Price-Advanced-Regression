{
 "cells": [
  {
   "cell_type": "code",
   "execution_count": 1,
   "id": "e212f1a2",
   "metadata": {},
   "outputs": [],
   "source": [
    "#####kaggle https://www.kaggle.com/c/house-prices-advanced-regression-techniques/overview/evaluation"
   ]
  },
  {
   "cell_type": "code",
   "execution_count": 2,
   "id": "15a34748",
   "metadata": {},
   "outputs": [],
   "source": [
    "import pandas as pd\n",
    "import numpy as np\n",
    "import matplotlib.pyplot as plt\n",
    "import seaborn as sns\n",
    "\n",
    "############ loading train and test datasets ##############\n",
    "df  = pd.read_csv('sample_submission.csv')\n",
    "train_data = pd.read_csv('train.csv')\n",
    "test_data = pd.read_csv('test.csv')\n",
    "\n",
    "##### Filling NAN values ##################\n",
    "train_data['PoolQC'] = train_data['PoolQC'].fillna('NA')\n",
    "train_data['Alley'] = train_data['Alley'].fillna('NA')\n",
    "train_data['MasVnrType'] = train_data['MasVnrType'].fillna('None')\n",
    "train_data['BsmtExposure'] = train_data['BsmtExposure'].fillna('NA')\n",
    "train_data['BsmtFinType1'] = train_data['BsmtFinType1'].fillna('NA')\n",
    "train_data['BsmtFinType2'] = train_data['BsmtFinType2'].fillna('NA')\n",
    "train_data['FireplaceQu'] = train_data['FireplaceQu'].fillna('NA')\n",
    "train_data['GarageType'] = train_data['GarageType'].fillna('NA')\n",
    "train_data['GarageFinish'] = train_data['GarageFinish'].fillna('NA')\n",
    "train_data['GarageQual'] = train_data['GarageQual'].fillna('NA')\n",
    "train_data['GarageCond'] = train_data['GarageCond'].fillna('NA')\n",
    "train_data['Fence'] = train_data['Fence'].fillna('NA')\n",
    "train_data['MiscFeature'] = train_data['MiscFeature'].fillna('NA')\n",
    "train_data['LotFrontage'].fillna(train_data['LotFrontage'].mode()[0],inplace = True)\n",
    "train_data['MasVnrArea'].fillna(train_data['MasVnrArea'].mode()[0],inplace = True)\n",
    "train_data['BsmtQual'].fillna(train_data['BsmtQual'].mode()[0],inplace = True)\n",
    "train_data['BsmtCond'].fillna(train_data['BsmtCond'].mode()[0],inplace = True)\n",
    "train_data['Electrical'].fillna(train_data['Electrical'].mode()[0],inplace = True)\n",
    "train_data['GarageYrBlt'].fillna(train_data['GarageYrBlt'].mode()[0],inplace = True)\n",
    "\n",
    "train_data['YrSold_build'] = 2021 - train_data['YrSold']\n",
    "train_data.drop(['YrSold'],axis=1,inplace = True)\n",
    "train_data['YearBuilt_build'] = 2021 - train_data['YearBuilt']\n",
    "train_data.drop(['YearBuilt'],axis=1,inplace = True)\n",
    "train_data['YearRemodAdd_build'] = 2021 - train_data['YearRemodAdd']\n",
    "train_data.drop(['YearRemodAdd'],axis=1,inplace = True)\n",
    "\n",
    "train_data  = pd.get_dummies(train_data,drop_first=True)\n",
    "\n",
    "########## checking for coreelation #############\n",
    "def correlation(dataset, threshold):\n",
    "    col_corr = set()  # Set of all the names of correlated columns\n",
    "    corr_matrix = dataset.corr()\n",
    "    for i in range(len(corr_matrix.columns)):\n",
    "        for j in range(i):\n",
    "            if abs(corr_matrix.iloc[i, j]) > threshold: # we are interested in absolute coeff value\n",
    "                colname = corr_matrix.columns[i]  # getting the name of column\n",
    "                col_corr.add(colname)\n",
    "    return col_corr\n",
    "\n",
    "correlation(train_data,0.85)\n",
    "\n",
    "############ Dropping highly corelated columns ########################\n",
    "train_data = train_data.drop(['BsmtFinType1_NA',\n",
    " 'BsmtFinType2_NA',\n",
    " 'ExterCond_TA',\n",
    " 'ExterQual_TA',\n",
    " 'Exterior2nd_CBlock',\n",
    " 'Exterior2nd_CmentBd',\n",
    " 'Exterior2nd_HdBoard',\n",
    " 'Exterior2nd_MetalSd',\n",
    " 'Exterior2nd_VinylSd',\n",
    " 'Exterior2nd_Wd Sdng',\n",
    " 'FireplaceQu_NA',\n",
    " 'GarageArea',\n",
    " 'GarageCond_NA',\n",
    " 'GarageFinish_NA',\n",
    " 'GarageQual_NA',\n",
    " 'MiscFeature_Shed',\n",
    " 'Neighborhood_Somerst',\n",
    " 'PoolQC_NA',\n",
    " 'RoofStyle_Hip',\n",
    " 'SaleCondition_Partial'],axis=1)"
   ]
  },
  {
   "cell_type": "code",
   "execution_count": 3,
   "id": "4d0db617",
   "metadata": {},
   "outputs": [],
   "source": [
    "X = train_data.drop(['Id','SalePrice'],axis=1)\n",
    "y = train_data['SalePrice']"
   ]
  },
  {
   "cell_type": "code",
   "execution_count": 7,
   "id": "59a8ba2d",
   "metadata": {},
   "outputs": [
    {
     "name": "stdout",
     "output_type": "stream",
     "text": [
      "test data Score: 0.8834137196673312\n",
      "train data Score: 0.9715726039350839\n",
      "r2 sqyuare value 0.8834137196673312\n",
      "MAE: 16832.346437207147\n",
      "MSE: 791503259.3122102\n",
      "RMSE: 28133.667718806417\n"
     ]
    }
   ],
   "source": [
    "from sklearn.model_selection import train_test_split\n",
    "X_train, X_test, y_train, y_test = train_test_split(X, y, test_size=0.3, random_state=0)\n",
    "\n",
    "\n",
    "# Import models and utility functions\n",
    "from sklearn.ensemble import GradientBoostingRegressor\n",
    "gbr = GradientBoostingRegressor()\n",
    "gbr.fit(X_train,y_train)\n",
    "gbr_y_pred = gbr.predict(X_test)\n",
    "\n",
    "print(\"test data Score:\", gbr.score(X_test,y_test))\n",
    "print(\"train data Score:\" , gbr.score(X_train,y_train))\n",
    "\n",
    "from sklearn.metrics import r2_score\n",
    "re = r2_score(y_test, gbr_y_pred)\n",
    "print(\"r2 sqyuare value\",re)\n",
    "\n",
    "from sklearn import metrics\n",
    "print('MAE:', metrics.mean_absolute_error(y_test, gbr_y_pred))\n",
    "print('MSE:', metrics.mean_squared_error(y_test, gbr_y_pred))\n",
    "print('RMSE:', np.sqrt(metrics.mean_squared_error(y_test, gbr_y_pred)))\n",
    "\n"
   ]
  },
  {
   "cell_type": "code",
   "execution_count": 13,
   "id": "5fe51624",
   "metadata": {},
   "outputs": [
    {
     "data": {
      "image/png": "[encoded data removed]",
      "text/plain": [
       "<Figure size 432x288 with 1 Axes>"
      ]
     },
     "metadata": {
      "needs_background": "light"
     },
     "output_type": "display_data"
    }
   ],
   "source": [
    "learning_rates = [1, 0.5, 0.25, 0.1, 0.05, 0.01]\n",
    "train_results = []\n",
    "test_results = []\n",
    "for eta in learning_rates:\n",
    "    model = GradientBoostingRegressor(learning_rate=eta)\n",
    "    model.fit(X_train, y_train)\n",
    "    train_pred = model.predict(X_train)\n",
    "    re_train = r2_score(y_train, train_pred)\n",
    "    train_results.append(re_train)\n",
    "    test_pred = model.predict(X_test)\n",
    "    re_test = r2_score(y_test, test_pred)\n",
    "    test_results.append(re_test)\n",
    "    \n",
    "    \n",
    "from matplotlib.legend_handler import HandlerLine2D\n",
    "line1, = plt.plot(learning_rates, train_results, label= 'Train r2')\n",
    "line2, = plt.plot(learning_rates, test_results, label='Test r2' )\n",
    "plt.legend(handler_map={line1: HandlerLine2D(numpoints=2)})\n",
    "plt.ylabel('R2 score')\n",
    "plt.xlabel('learning rate')\n",
    "plt.grid()\n",
    "plt.show()\n"
   ]
  },
  {
   "cell_type": "code",
   "execution_count": 14,
   "id": "3a617fbf",
   "metadata": {},
   "outputs": [
    {
     "name": "stdout",
     "output_type": "stream",
     "text": [
      "Fitting 4 folds for each of 50 candidates, totalling 200 fits\n"
     ]
    },
    {
     "data": {
      "text/plain": [
       "RandomizedSearchCV(cv=4, estimator=GradientBoostingRegressor(), n_iter=50,\n",
       "                   n_jobs=-1,\n",
       "                   param_distributions={'learning_rate': [1, 0.5, 0.25, 0.1,\n",
       "                                                          0.05, 0.01],\n",
       "                                        'loss': ['ls', 'lad', 'huber'],\n",
       "                                        'max_depth': [2, 3, 5, 10, 15],\n",
       "                                        'max_features': ['auto', 'sqrt', 'log2',\n",
       "                                                         None],\n",
       "                                        'min_samples_leaf': [1, 2, 4, 6, 8],\n",
       "                                        'min_samples_split': [2, 4, 6, 10],\n",
       "                                        'n_estimators': [100, 500, 900, 1100,\n",
       "                                                         1500]},\n",
       "                   random_state=42, verbose=5)"
      ]
     },
     "execution_count": 14,
     "metadata": {},
     "output_type": "execute_result"
    }
   ],
   "source": [
    "from sklearn.model_selection import RandomizedSearchCV\n",
    "loss = ['ls', 'lad', 'huber']\n",
    "n_estimators = [100, 500, 900, 1100, 1500]\n",
    "max_depth = [2, 3, 5, 10, 15]\n",
    "min_samples_leaf = [1, 2, 4, 6, 8] \n",
    "min_samples_split = [2, 4, 6, 10]\n",
    "max_features = ['auto', 'sqrt', 'log2', None]\n",
    "learning_rate = [1, 0.5, 0.25, 0.1, 0.05, 0.01]\n",
    "\n",
    "# Define the grid of hyperparameters to search\n",
    "hyperparameter_grid = {'loss': loss,\n",
    "    'n_estimators': n_estimators,\n",
    "    'max_depth': max_depth,\n",
    "    'min_samples_leaf': min_samples_leaf,\n",
    "    'min_samples_split': min_samples_split,\n",
    "    'max_features': max_features,\n",
    "     'learning_rate':learning_rate}\n",
    "\n",
    "gbr = GradientBoostingRegressor()\n",
    "# Set up the random search with 4-fold cross validation\n",
    "random_cv = RandomizedSearchCV(estimator=gbr,\n",
    "            param_distributions=hyperparameter_grid,\n",
    "            cv=4, n_iter=50,\n",
    "            n_jobs = -1,\n",
    "            verbose = 5, \n",
    "            random_state=42)\n",
    "random_cv.fit(X_train,y_train)"
   ]
  },
  {
   "cell_type": "code",
   "execution_count": 15,
   "id": "a2b3fa3f",
   "metadata": {},
   "outputs": [
    {
     "data": {
      "text/plain": [
       "{'n_estimators': 1100,\n",
       " 'min_samples_split': 6,\n",
       " 'min_samples_leaf': 8,\n",
       " 'max_features': 'log2',\n",
       " 'max_depth': 3,\n",
       " 'loss': 'huber',\n",
       " 'learning_rate': 0.05}"
      ]
     },
     "execution_count": 15,
     "metadata": {},
     "output_type": "execute_result"
    }
   ],
   "source": [
    "random_cv.best_params_"
   ]
  },
  {
   "cell_type": "code",
   "execution_count": 18,
   "id": "4612efc9",
   "metadata": {},
   "outputs": [],
   "source": [
    "X = train_data.drop(['Id','SalePrice'],axis=1)\n",
    "y = train_data['SalePrice']\n",
    "\n",
    "from sklearn.model_selection import train_test_split\n",
    "X_train, X_test, y_train, y_test = train_test_split(X, y, test_size=0.3, random_state=0)\n",
    "\n",
    "gbr_best = GradientBoostingRegressor(n_estimators = 1100,\n",
    " min_samples_split =  6,\n",
    " min_samples_leaf =  8,\n",
    " max_features= 'log2',\n",
    " max_depth= 3,\n",
    " loss= 'huber',\n",
    " learning_rate= 0.05)"
   ]
  },
  {
   "cell_type": "code",
   "execution_count": 19,
   "id": "898d8518",
   "metadata": {},
   "outputs": [
    {
     "name": "stdout",
     "output_type": "stream",
     "text": [
      "test data Score: 0.870110289102507\n",
      "train data Score: 0.949667568754551\n",
      "r2 sqyuare value 0.870110289102507\n",
      "MAE: 15914.754880729957\n",
      "MSE: 881820135.5522484\n",
      "RMSE: 29695.456479944005\n"
     ]
    }
   ],
   "source": [
    "gbr_best.fit(X_train,y_train)\n",
    "gbr_y_pred_best = gbr_best.predict(X_test)\n",
    "\n",
    "print(\"test data Score:\", gbr_best.score(X_test,y_test))\n",
    "print(\"train data Score:\" , gbr_best.score(X_train,y_train))\n",
    "\n",
    "from sklearn.metrics import r2_score\n",
    "re = r2_score(y_test, gbr_y_pred_best)\n",
    "print(\"r2 sqyuare value\",re)\n",
    "\n",
    "from sklearn import metrics\n",
    "print('MAE:', metrics.mean_absolute_error(y_test, gbr_y_pred_best))\n",
    "print('MSE:', metrics.mean_squared_error(y_test, gbr_y_pred_best))\n",
    "print('RMSE:', np.sqrt(metrics.mean_squared_error(y_test, gbr_y_pred_best)))"
   ]
  },
  {
   "cell_type": "code",
   "execution_count": null,
   "id": "bbc68422",
   "metadata": {},
   "outputs": [],
   "source": []
  }
 ],
 "metadata": {
  "kernelspec": {
   "display_name": "Python 3",
   "language": "python",
   "name": "python3"
  },
  "language_info": {
   "codemirror_mode": {
    "name": "ipython",
    "version": 3
   },
   "file_extension": ".py",
   "mimetype": "text/x-python",
   "name": "python",
   "nbconvert_exporter": "python",
   "pygments_lexer": "ipython3",
   "version": "3.9.5"
  }
 },
 "nbformat": 4,
 "nbformat_minor": 5
}
